{
  "nbformat": 4,
  "nbformat_minor": 0,
  "metadata": {
    "colab": {
      "provenance": [],
      "authorship_tag": "ABX9TyNQrQftBv/q2iUAOZbT5aAJ",
      "include_colab_link": true
    },
    "kernelspec": {
      "name": "python3",
      "display_name": "Python 3"
    },
    "language_info": {
      "name": "python"
    }
  },
  "cells": [
    {
      "cell_type": "markdown",
      "metadata": {
        "id": "view-in-github",
        "colab_type": "text"
      },
      "source": [
        "<a href=\"https://colab.research.google.com/github/bhatt01tapasvi1/PIV-Vicsek-Model-Nature-SR-paper-/blob/main/Vicsek_Model_Implementation1.ipynb\" target=\"_parent\"><img src=\"https://colab.research.google.com/assets/colab-badge.svg\" alt=\"Open In Colab\"/></a>"
      ]
    },
    {
      "cell_type": "code",
      "execution_count": null,
      "metadata": {
        "colab": {
          "base_uri": "https://localhost:8080/"
        },
        "id": "mPMZIjFWBfKE",
        "outputId": "66a75038-2f43-4ea2-9db9-121cc9800a49"
      },
      "outputs": [
        {
          "output_type": "stream",
          "name": "stdout",
          "text": [
            "[82.00529814 68.41587898 30.29915947 62.16770635 91.24792031]\n",
            "[61.1814474  66.80929955 19.72547993 74.7146906  51.72592279]\n",
            "[5.17042261 2.66759725 5.92919416 2.44366153 3.3788447 ]\n"
          ]
        }
      ],
      "source": [
        "#Defining the variables:\n",
        "L = 100 #Side length of the square\n",
        "N = 500 #Number of particles\n",
        "v0 = 1 #Speed of particles (1 unit/1 unit (say))\n",
        "T = 500 #Total time for which simulation will run\n",
        "\n",
        "#Defining the positions and orientations:\n",
        "import numpy as np\n",
        "x = np.random.uniform(0,L,N)\n",
        "y = np.random.uniform(0,L,N)\n",
        "theta = np.random.uniform(0,2*np.pi,N)\n",
        "\n",
        "print(x[:5])\n",
        "print(y[:5])\n",
        "print(theta[:5])"
      ]
    },
    {
      "cell_type": "code",
      "source": [
        "#I am doing two things here:\n",
        "#1. At each time step, updating the position of particles\n",
        "#2. Saving the positions in the list x_history and y_history\n",
        "\n",
        "x_history = []\n",
        "y_history = []\n",
        "\n",
        "for t in range(T):\n",
        "  x_history.append(x.copy())  #Copy the array to avoid overwriting\n",
        "  y_history.append(y.copy())\n",
        "  for i in range(N):\n",
        "      x[i] = x[i] + v0*np.cos(theta[i])\n",
        "      y[i] = y[i] + v0*np.sin(theta[i])\n",
        "      if x[i] > L:\n",
        "          x[i] = x[i] - L\n",
        "      if y[i] > L:\n",
        "          y[i] = y[i] - L\n",
        "      if x[i] < 0:\n",
        "          x[i] = x[i] + L\n",
        "      if y[i] < 0:\n",
        "          y[i] = y[i] + L"
      ],
      "metadata": {
        "id": "sxQNXiFkEU3B"
      },
      "execution_count": null,
      "outputs": []
    },
    {
      "cell_type": "code",
      "source": [
        "#FIRST VIDEO WITHOUT PERTURBATION AND AVERAGING OF THETA\n",
        "\n",
        "import matplotlib.pyplot as plt\n",
        "import matplotlib.animation as animation\n",
        "\n",
        "# Create a figure and axis\n",
        "fig, ax = plt.subplots()\n",
        "ax.set_xlim(0, L)\n",
        "ax.set_ylim(0, L)\n",
        "\n",
        "# Initialize a scatter plot for particles\n",
        "scat = ax.scatter(x_history[0], y_history[0])\n",
        "\n",
        "# Function to update the scatter plot at each frame\n",
        "def update(frame):\n",
        "    scat.set_offsets(np.c_[x_history[frame], y_history[frame]])  # Update positions\n",
        "    return scat,\n",
        "\n",
        "# Create the animation\n",
        "ani = animation.FuncAnimation(fig, update, frames=T, interval=50, blit=True)\n",
        "\n",
        "# Save the animation as an MP4 file\n",
        "ani.save('particle_motion.mp4', writer='ffmpeg', fps=30)\n",
        "\n",
        "from google.colab import files\n",
        "files.download('particle_motion.mp4')"
      ],
      "metadata": {
        "id": "eixfxSDgHSKv"
      },
      "execution_count": null,
      "outputs": []
    },
    {
      "cell_type": "code",
      "source": [
        "r = 2 #Radius of the circle in which we will take the average\n",
        "Sphere_Particles = [[] for _ in range(N)] #List of list which contains all those particles (j) which come in the sphere of particle (i)\n",
        "for i in range(N):\n",
        "  for j in range(N):\n",
        "    if np.sqrt((x[i]-x[j])**2 + (y[i]-y[j])**2) < r:\n",
        "      Sphere_Particles[i].append(j)\n",
        "\n",
        "print(Sphere_Particles[:15])"
      ],
      "metadata": {
        "colab": {
          "base_uri": "https://localhost:8080/"
        },
        "id": "xPHxZgayH8rZ",
        "outputId": "ad4dfab7-8c9f-4e91-849a-ec0d7603e655"
      },
      "execution_count": null,
      "outputs": [
        {
          "output_type": "stream",
          "name": "stdout",
          "text": [
            "[[0, 78, 334], [1, 116, 175, 261], [2], [3], [4, 458], [5, 438], [6], [7, 328], [8, 355], [9, 345], [10, 13, 58, 327], [11], [12], [10, 13], [14, 482]]\n"
          ]
        }
      ]
    },
    {
      "cell_type": "markdown",
      "source": [
        "Till now, we have created a simple animation of particles moving inside the frame with fixed velocities, and we can visualise that. And then we move to the real implementation of the Vicsek Model where we take a radius r and find all those inside the sphere.\n",
        "\n",
        "Actually, as of now, I should have also updated the theta at each time interval also but let's go step by step, even if we repeat the work again, its fine. Because let's work on understanding how this thing works.\n",
        "\n",
        "**NOW LET'S DO THINGS AGAIN, WITH UPDATING THETA ALSO** 😀"
      ],
      "metadata": {
        "id": "ngDTayu_M-d9"
      }
    },
    {
      "cell_type": "code",
      "source": [
        "# Initialize a list to store the average angles <θi(t)>r for each particle\n",
        "average_theta_r = np.zeros(N)\n",
        "\n",
        "# Loop over each particle i\n",
        "for i in range(N):\n",
        "    neighbors = Sphere_Particles[i]  # List of neighbors for particle i\n",
        "\n",
        "    if len(neighbors) > 0:  # Only compute if there are neighbors\n",
        "        sum_sin = np.sum(np.fromiter((np.sin(theta[j]) for j in neighbors), dtype=float))  # Sum of sine of neighbors' angles\n",
        "        sum_cos = np.sum(np.fromiter((np.cos(theta[j]) for j in neighbors), dtype=float))  # Sum of cosine of neighbors' angles\n",
        "\n",
        "        # Compute the arctangent of the sum of sin and cos to get the average angle\n",
        "        average_theta_r[i] = np.arctan2(sum_sin, sum_cos)\n",
        "\n",
        "    else:\n",
        "        # If no neighbors, set average angle to the current particle's angle\n",
        "        average_theta_r[i] = theta[i]\n",
        "\n",
        "# Now average_theta_r contains the average angle for each particle\n",
        "print(average_theta_r[:5])  # Print first 5 average angles to verify"
      ],
      "metadata": {
        "colab": {
          "base_uri": "https://localhost:8080/"
        },
        "id": "CcoDDqLtPqQr",
        "outputId": "63696edd-c88e-43b5-e9f3-da908003d06a"
      },
      "execution_count": null,
      "outputs": [
        {
          "output_type": "stream",
          "name": "stdout",
          "text": [
            "[ 0.69224278  1.76515404 -2.3310368   2.96076166 -2.76472969]\n"
          ]
        }
      ]
    },
    {
      "cell_type": "code",
      "source": [
        "theta_history = []\n",
        "eta = 5 #Parameter of perturbation\n",
        "\n",
        "for t in range(T-1):\n",
        "    average_theta_r[t+1] = average_theta_r[t] + np.random.uniform(-eta/2, eta/2)\n",
        "    theta_history.append(average_theta_r.copy())\n",
        "\n",
        "print(average_theta_r[:5])  # Print first 5 average angles to verify"
      ],
      "metadata": {
        "colab": {
          "base_uri": "https://localhost:8080/"
        },
        "id": "smNBXkHhX-8d",
        "outputId": "cafad347-0204-468c-e222-88d740468f35"
      },
      "execution_count": null,
      "outputs": [
        {
          "output_type": "stream",
          "name": "stdout",
          "text": [
            "[0.69224278 1.09409333 3.34017649 4.82491489 5.04771376]\n"
          ]
        }
      ]
    },
    {
      "cell_type": "code",
      "source": [
        "#SECOND VIDEO WITH PERTURBATION AND AVERAGING OF THETA\n",
        "\n",
        "perturbed_x_history = []\n",
        "perturbed_y_history = []\n",
        "\n",
        "for t in range(T):\n",
        "  perturbed_x_history.append(x.copy())  #Copy the array to avoid overwriting\n",
        "  perturbed_y_history.append(y.copy())\n",
        "  for i in range(N):\n",
        "      x[i] = x[i] + v0*np.cos(average_theta_r[i])\n",
        "      y[i] = y[i] + v0*np.sin(average_theta_r[i])\n",
        "      if x[i] > L:\n",
        "          x[i] = x[i] - L\n",
        "      if y[i] > L:\n",
        "          y[i] = y[i] - L\n",
        "      if x[i] < 0:\n",
        "          x[i] = x[i] + L\n",
        "      if y[i] < 0:\n",
        "          y[i] = y[i] + L\n",
        "\n",
        "import matplotlib.pyplot as plt\n",
        "import matplotlib.animation as animation\n",
        "\n",
        "# Create a figure and axis\n",
        "fig, ax = plt.subplots()\n",
        "ax.set_xlim(0, L)\n",
        "ax.set_ylim(0, L)\n",
        "\n",
        "# Initialize a scatter plot for particles\n",
        "scat = ax.scatter(perturbed_x_history[0], perturbed_y_history[0])\n",
        "\n",
        "# Function to update the scatter plot at each frame\n",
        "def update(frame):\n",
        "    scat.set_offsets(np.c_[perturbed_x_history[frame], perturbed_y_history[frame]])  # Update positions\n",
        "    return scat,\n",
        "\n",
        "# Create the animation\n",
        "ani = animation.FuncAnimation(fig, update, frames=T, interval=50, blit=True)\n",
        "\n",
        "# Save the animation as an MP4 file\n",
        "ani.save('perturbed_particle_motion.mp4', writer='ffmpeg', fps=30)\n",
        "\n",
        "from google.colab import files\n",
        "files.download('perturbed_particle_motion.mp4')"
      ],
      "metadata": {
        "id": "nNOOYRDRaU2z",
        "colab": {
          "base_uri": "https://localhost:8080/",
          "height": 183
        },
        "outputId": "ea3ce6b9-698c-48b2-938c-fe29e6d00944"
      },
      "execution_count": null,
      "outputs": [
        {
          "output_type": "error",
          "ename": "NameError",
          "evalue": "name 'files' is not defined",
          "traceback": [
            "\u001b[0;31m---------------------------------------------------------------------------\u001b[0m",
            "\u001b[0;31mNameError\u001b[0m                                 Traceback (most recent call last)",
            "\u001b[0;32m<ipython-input-78-6096428aa95d>\u001b[0m in \u001b[0;36m<cell line: 42>\u001b[0;34m()\u001b[0m\n\u001b[1;32m     40\u001b[0m \u001b[0;31m# Save the animation as an MP4 file\u001b[0m\u001b[0;34m\u001b[0m\u001b[0;34m\u001b[0m\u001b[0m\n\u001b[1;32m     41\u001b[0m \u001b[0mani\u001b[0m\u001b[0;34m.\u001b[0m\u001b[0msave\u001b[0m\u001b[0;34m(\u001b[0m\u001b[0;34m'perturbed_particle_motion.mp4'\u001b[0m\u001b[0;34m,\u001b[0m \u001b[0mwriter\u001b[0m\u001b[0;34m=\u001b[0m\u001b[0;34m'ffmpeg'\u001b[0m\u001b[0;34m,\u001b[0m \u001b[0mfps\u001b[0m\u001b[0;34m=\u001b[0m\u001b[0;36m30\u001b[0m\u001b[0;34m)\u001b[0m\u001b[0;34m\u001b[0m\u001b[0;34m\u001b[0m\u001b[0m\n\u001b[0;32m---> 42\u001b[0;31m \u001b[0mfiles\u001b[0m\u001b[0;34m.\u001b[0m\u001b[0mdownload\u001b[0m\u001b[0;34m(\u001b[0m\u001b[0;34m'perturbed_particle_motion.mp4'\u001b[0m\u001b[0;34m)\u001b[0m\u001b[0;34m\u001b[0m\u001b[0;34m\u001b[0m\u001b[0m\n\u001b[0m",
            "\u001b[0;31mNameError\u001b[0m: name 'files' is not defined"
          ]
        }
      ]
    },
    {
      "cell_type": "code",
      "source": [],
      "metadata": {
        "colab": {
          "base_uri": "https://localhost:8080/",
          "height": 17
        },
        "id": "r6nm_D_anuQp",
        "outputId": "50e1c89c-bea8-43dd-9cfa-61b35d363f8a"
      },
      "execution_count": null,
      "outputs": [
        {
          "output_type": "display_data",
          "data": {
            "text/plain": [
              "<IPython.core.display.Javascript object>"
            ],
            "application/javascript": [
              "\n",
              "    async function download(id, filename, size) {\n",
              "      if (!google.colab.kernel.accessAllowed) {\n",
              "        return;\n",
              "      }\n",
              "      const div = document.createElement('div');\n",
              "      const label = document.createElement('label');\n",
              "      label.textContent = `Downloading \"${filename}\": `;\n",
              "      div.appendChild(label);\n",
              "      const progress = document.createElement('progress');\n",
              "      progress.max = size;\n",
              "      div.appendChild(progress);\n",
              "      document.body.appendChild(div);\n",
              "\n",
              "      const buffers = [];\n",
              "      let downloaded = 0;\n",
              "\n",
              "      const channel = await google.colab.kernel.comms.open(id);\n",
              "      // Send a message to notify the kernel that we're ready.\n",
              "      channel.send({})\n",
              "\n",
              "      for await (const message of channel.messages) {\n",
              "        // Send a message to notify the kernel that we're ready.\n",
              "        channel.send({})\n",
              "        if (message.buffers) {\n",
              "          for (const buffer of message.buffers) {\n",
              "            buffers.push(buffer);\n",
              "            downloaded += buffer.byteLength;\n",
              "            progress.value = downloaded;\n",
              "          }\n",
              "        }\n",
              "      }\n",
              "      const blob = new Blob(buffers, {type: 'application/binary'});\n",
              "      const a = document.createElement('a');\n",
              "      a.href = window.URL.createObjectURL(blob);\n",
              "      a.download = filename;\n",
              "      div.appendChild(a);\n",
              "      a.click();\n",
              "      div.remove();\n",
              "    }\n",
              "  "
            ]
          },
          "metadata": {}
        },
        {
          "output_type": "display_data",
          "data": {
            "text/plain": [
              "<IPython.core.display.Javascript object>"
            ],
            "application/javascript": [
              "download(\"download_62c69ef5-de11-4971-815a-b35add85e643\", \"perturbed_particle_motion.mp4\", 3298692)"
            ]
          },
          "metadata": {}
        }
      ]
    }
  ]
}